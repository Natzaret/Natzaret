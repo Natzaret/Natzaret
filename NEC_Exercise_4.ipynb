{
 "cells": [
  {
   "cell_type": "code",
   "execution_count": 1,
   "metadata": {},
   "outputs": [],
   "source": [
    "# Packages\n",
    "import tsplib95\n",
    "import random\n",
    "import matplotlib.pyplot as plt\n",
    "import os\n",
    "import gzip"
   ]
  },
  {
   "cell_type": "markdown",
   "metadata": {},
   "source": [
    "URV                                                                            MESIIA\n",
    "\n",
    "Neural and Evolutionary Computation (NEC)\n",
    "Assignment 4: Optimization with Genetic Algorithm\n",
    "\n",
    "Teachers: Dr. Jordi Duch, Dr. Sergio Gomez\n",
    "\n",
    "Student: Natzaret Gálvez Rísquez"
   ]
  },
  {
   "cell_type": "markdown",
   "metadata": {},
   "source": [
    "Implementing a genetic algorithm for the Traveling Salesman Problem (TSP) using the TSPLIB library "
   ]
  },
  {
   "cell_type": "code",
   "execution_count": 2,
   "metadata": {},
   "outputs": [],
   "source": [
    "# File paths\n",
    "tsp_file_path = 'C:/Users/Gari/Desktop/Assignments_NEC/A4/eil101.tsp'\n",
    "\n",
    "# Load the dataset\n",
    "dataset = tsplib95.load(tsp_file_path)"
   ]
  },
  {
   "cell_type": "markdown",
   "metadata": {},
   "source": [
    "Genetic algorithm  for solving the Traveling Salesman Problem (TSP) using permutation representation and various selection, mutation, and crossover techniques"
   ]
  },
  {
   "cell_type": "code",
   "execution_count": 9,
   "metadata": {},
   "outputs": [
    {
     "ename": "ValueError",
     "evalue": "The truth value of an array with more than one element is ambiguous. Use a.any() or a.all()",
     "output_type": "error",
     "traceback": [
      "\u001b[1;31m---------------------------------------------------------------------------\u001b[0m",
      "\u001b[1;31mValueError\u001b[0m                                Traceback (most recent call last)",
      "\u001b[1;32mc:\\Users\\Gari\\Desktop\\NEC\\NEC_Exercise_4.ipynb Cell 6\u001b[0m line \u001b[0;36m1\n\u001b[0;32m    <a href='vscode-notebook-cell:/c%3A/Users/Gari/Desktop/NEC/NEC_Exercise_4.ipynb#X21sZmlsZQ%3D%3D?line=104'>105</a>\u001b[0m \u001b[39mif\u001b[39;00m \u001b[39m__name__\u001b[39m \u001b[39m==\u001b[39m \u001b[39m\"\u001b[39m\u001b[39m__main__\u001b[39m\u001b[39m\"\u001b[39m:\n\u001b[0;32m    <a href='vscode-notebook-cell:/c%3A/Users/Gari/Desktop/NEC/NEC_Exercise_4.ipynb#X21sZmlsZQ%3D%3D?line=105'>106</a>\u001b[0m     \u001b[39m# Example distance matrix (replace this with your own)\u001b[39;00m\n\u001b[0;32m    <a href='vscode-notebook-cell:/c%3A/Users/Gari/Desktop/NEC/NEC_Exercise_4.ipynb#X21sZmlsZQ%3D%3D?line=106'>107</a>\u001b[0m     distances \u001b[39m=\u001b[39m np\u001b[39m.\u001b[39marray([[\u001b[39m0\u001b[39m, \u001b[39m10\u001b[39m, \u001b[39m15\u001b[39m, \u001b[39m20\u001b[39m],\n\u001b[0;32m    <a href='vscode-notebook-cell:/c%3A/Users/Gari/Desktop/NEC/NEC_Exercise_4.ipynb#X21sZmlsZQ%3D%3D?line=107'>108</a>\u001b[0m                           [\u001b[39m10\u001b[39m, \u001b[39m0\u001b[39m, \u001b[39m35\u001b[39m, \u001b[39m25\u001b[39m],\n\u001b[0;32m    <a href='vscode-notebook-cell:/c%3A/Users/Gari/Desktop/NEC/NEC_Exercise_4.ipynb#X21sZmlsZQ%3D%3D?line=108'>109</a>\u001b[0m                           [\u001b[39m15\u001b[39m, \u001b[39m35\u001b[39m, \u001b[39m0\u001b[39m, \u001b[39m30\u001b[39m],\n\u001b[0;32m    <a href='vscode-notebook-cell:/c%3A/Users/Gari/Desktop/NEC/NEC_Exercise_4.ipynb#X21sZmlsZQ%3D%3D?line=109'>110</a>\u001b[0m                           [\u001b[39m20\u001b[39m, \u001b[39m25\u001b[39m, \u001b[39m30\u001b[39m, \u001b[39m0\u001b[39m]])\n\u001b[1;32m--> <a href='vscode-notebook-cell:/c%3A/Users/Gari/Desktop/NEC/NEC_Exercise_4.ipynb#X21sZmlsZQ%3D%3D?line=110'>111</a>\u001b[0m     solution \u001b[39m=\u001b[39m genetic_algorithm(distances)\n\u001b[0;32m    <a href='vscode-notebook-cell:/c%3A/Users/Gari/Desktop/NEC/NEC_Exercise_4.ipynb#X21sZmlsZQ%3D%3D?line=111'>112</a>\u001b[0m     \u001b[39mprint\u001b[39m(\u001b[39m\"\u001b[39m\u001b[39mBest tour:\u001b[39m\u001b[39m\"\u001b[39m, solution)\n\u001b[0;32m    <a href='vscode-notebook-cell:/c%3A/Users/Gari/Desktop/NEC/NEC_Exercise_4.ipynb#X21sZmlsZQ%3D%3D?line=112'>113</a>\u001b[0m     \u001b[39mprint\u001b[39m(\u001b[39m\"\u001b[39m\u001b[39mTotal distance:\u001b[39m\u001b[39m\"\u001b[39m, total_distance(solution, distances))\n",
      "\u001b[1;32mc:\\Users\\Gari\\Desktop\\NEC\\NEC_Exercise_4.ipynb Cell 6\u001b[0m line \u001b[0;36m9\n\u001b[0;32m     <a href='vscode-notebook-cell:/c%3A/Users/Gari/Desktop/NEC/NEC_Exercise_4.ipynb#X21sZmlsZQ%3D%3D?line=88'>89</a>\u001b[0m selected_parents \u001b[39m=\u001b[39m [roulette_wheel_selection(population, distances) \u001b[39mfor\u001b[39;00m _ \u001b[39min\u001b[39;00m \u001b[39mrange\u001b[39m(\u001b[39m2\u001b[39m)]\n\u001b[0;32m     <a href='vscode-notebook-cell:/c%3A/Users/Gari/Desktop/NEC/NEC_Exercise_4.ipynb#X21sZmlsZQ%3D%3D?line=89'>90</a>\u001b[0m \u001b[39m# Crossover\u001b[39;00m\n\u001b[1;32m---> <a href='vscode-notebook-cell:/c%3A/Users/Gari/Desktop/NEC/NEC_Exercise_4.ipynb#X21sZmlsZQ%3D%3D?line=90'>91</a>\u001b[0m child1, child2 \u001b[39m=\u001b[39m partially_mapped_crossover(selected_parents[\u001b[39m0\u001b[39;49m], selected_parents[\u001b[39m1\u001b[39;49m])\n\u001b[0;32m     <a href='vscode-notebook-cell:/c%3A/Users/Gari/Desktop/NEC/NEC_Exercise_4.ipynb#X21sZmlsZQ%3D%3D?line=91'>92</a>\u001b[0m \u001b[39m# Mutation\u001b[39;00m\n\u001b[0;32m     <a href='vscode-notebook-cell:/c%3A/Users/Gari/Desktop/NEC/NEC_Exercise_4.ipynb#X21sZmlsZQ%3D%3D?line=92'>93</a>\u001b[0m \u001b[39mif\u001b[39;00m np\u001b[39m.\u001b[39mrandom\u001b[39m.\u001b[39mrand() \u001b[39m<\u001b[39m mutation_rate:\n",
      "\u001b[1;32mc:\\Users\\Gari\\Desktop\\NEC\\NEC_Exercise_4.ipynb Cell 6\u001b[0m line \u001b[0;36m5\n\u001b[0;32m     <a href='vscode-notebook-cell:/c%3A/Users/Gari/Desktop/NEC/NEC_Exercise_4.ipynb#X21sZmlsZQ%3D%3D?line=53'>54</a>\u001b[0m child2[start:end \u001b[39m+\u001b[39m \u001b[39m1\u001b[39m] \u001b[39m=\u001b[39m parent2[start:end \u001b[39m+\u001b[39m \u001b[39m1\u001b[39m]\n\u001b[0;32m     <a href='vscode-notebook-cell:/c%3A/Users/Gari/Desktop/NEC/NEC_Exercise_4.ipynb#X21sZmlsZQ%3D%3D?line=55'>56</a>\u001b[0m \u001b[39mfor\u001b[39;00m i \u001b[39min\u001b[39;00m \u001b[39mrange\u001b[39m(n):\n\u001b[1;32m---> <a href='vscode-notebook-cell:/c%3A/Users/Gari/Desktop/NEC/NEC_Exercise_4.ipynb#X21sZmlsZQ%3D%3D?line=56'>57</a>\u001b[0m     \u001b[39mif\u001b[39;00m parent2[i] \u001b[39mnot\u001b[39;49;00m \u001b[39min\u001b[39;49;00m child1:\n\u001b[0;32m     <a href='vscode-notebook-cell:/c%3A/Users/Gari/Desktop/NEC/NEC_Exercise_4.ipynb#X21sZmlsZQ%3D%3D?line=57'>58</a>\u001b[0m         index \u001b[39m=\u001b[39m i\n\u001b[0;32m     <a href='vscode-notebook-cell:/c%3A/Users/Gari/Desktop/NEC/NEC_Exercise_4.ipynb#X21sZmlsZQ%3D%3D?line=58'>59</a>\u001b[0m         \u001b[39mwhile\u001b[39;00m child1[index] \u001b[39m!=\u001b[39m \u001b[39m-\u001b[39m\u001b[39m1\u001b[39m:\n",
      "\u001b[1;31mValueError\u001b[0m: The truth value of an array with more than one element is ambiguous. Use a.any() or a.all()"
     ]
    }
   ],
   "source": [
    "import numpy as np\n",
    "\n",
    "# Function to calculate the total distance of a tour\n",
    "def total_distance(tour, distances):\n",
    "    total = 0\n",
    "    for i in range(len(tour) - 1):\n",
    "        total += distances[tour[i], tour[i + 1]]\n",
    "    total += distances[tour[-1], tour[0]]  # Return to the starting city\n",
    "    return total\n",
    "\n",
    "# Function to initialize the population\n",
    "def initialize_population(pop_size, num_cities):\n",
    "    population = []\n",
    "    for _ in range(pop_size):\n",
    "        chromosome = np.random.permutation(num_cities)\n",
    "        population.append(chromosome)\n",
    "    return population\n",
    "\n",
    "# Selection: Roulette Wheel Selection\n",
    "def roulette_wheel_selection(population, distances):\n",
    "    fitness_values = [1 / total_distance(chromosome, distances) for chromosome in population]\n",
    "    total_fitness = sum(fitness_values)\n",
    "    probabilities = [fitness / total_fitness for fitness in fitness_values]\n",
    "    selected_indices = np.random.choice(len(population), 2, replace=False, p=probabilities)\n",
    "    return [population[i] for i in selected_indices]\n",
    "\n",
    "# Selection: Tournament Selection\n",
    "def tournament_selection(population, distances, tournament_size=3):\n",
    "    tournament_indices = np.random.choice(len(population), tournament_size, replace=False)\n",
    "    tournament = [population[i] for i in tournament_indices]\n",
    "    best_chromosome = min(tournament, key=lambda x: total_distance(x, distances))\n",
    "    return best_chromosome\n",
    "\n",
    "# Crossover: Order Crossover (OX)\n",
    "def order_crossover(parent1, parent2):\n",
    "    n = len(parent1)\n",
    "    start, end = sorted(np.random.choice(n, 2, replace=False))\n",
    "    child = [-1] * n\n",
    "    child[start:end + 1] = parent1[start:end + 1]\n",
    "    remaining = [gene for gene in parent2 if gene not in child]\n",
    "    index = 0\n",
    "    for i in range(n):\n",
    "        if child[i] == -1:\n",
    "            child[i] = remaining[index]\n",
    "            index += 1\n",
    "    return child\n",
    "\n",
    "# Crossover: Partially Mapped Crossover (PMX)\n",
    "def partially_mapped_crossover(parent1, parent2):\n",
    "    n = len(parent1)\n",
    "    start, end = sorted(np.random.choice(n, 2, replace=False))\n",
    "    child1, child2 = [-1] * n, [-1] * n\n",
    "    child1[start:end + 1] = parent1[start:end + 1]\n",
    "    child2[start:end + 1] = parent2[start:end + 1]\n",
    "    \n",
    "    for i in range(n):\n",
    "        if parent2[i] not in child1:\n",
    "            index = i\n",
    "            while child1[index] != -1:\n",
    "                index = parent1.index(parent2[index])\n",
    "            child1[index] = parent2[i]\n",
    "        if parent1[i] not in child2:\n",
    "            index = i\n",
    "            while child2[index] != -1:\n",
    "                index = parent2.index(parent1[index])\n",
    "            child2[index] = parent1[i]\n",
    "    return child1, child2\n",
    "\n",
    "# Mutation: Swap Mutation\n",
    "def swap_mutation(chromosome):\n",
    "    idx1, idx2 = np.random.choice(len(chromosome), 2, replace=False)\n",
    "    chromosome[idx1], chromosome[idx2] = chromosome[idx2], chromosome[idx1]\n",
    "    return chromosome\n",
    "\n",
    "# Mutation: Inversion Mutation\n",
    "def inversion_mutation(chromosome):\n",
    "    start, end = sorted(np.random.choice(len(chromosome), 2, replace=False))\n",
    "    chromosome[start:end + 1] = chromosome[start:end + 1][::-1]\n",
    "    return chromosome\n",
    "\n",
    "\n",
    "\n",
    "\n",
    "\n"
   ]
  },
  {
   "cell_type": "code",
   "execution_count": 8,
   "metadata": {},
   "outputs": [
    {
     "ename": "ValueError",
     "evalue": "The truth value of an array with more than one element is ambiguous. Use a.any() or a.all()",
     "output_type": "error",
     "traceback": [
      "\u001b[1;31m---------------------------------------------------------------------------\u001b[0m",
      "\u001b[1;31mValueError\u001b[0m                                Traceback (most recent call last)",
      "\u001b[1;32mc:\\Users\\Gari\\Desktop\\NEC\\NEC_Exercise_4.ipynb Cell 7\u001b[0m line \u001b[0;36m2\n\u001b[0;32m     <a href='vscode-notebook-cell:/c%3A/Users/Gari/Desktop/NEC/NEC_Exercise_4.ipynb#X20sZmlsZQ%3D%3D?line=22'>23</a>\u001b[0m \u001b[39mif\u001b[39;00m \u001b[39m__name__\u001b[39m \u001b[39m==\u001b[39m \u001b[39m\"\u001b[39m\u001b[39m__main__\u001b[39m\u001b[39m\"\u001b[39m:\n\u001b[0;32m     <a href='vscode-notebook-cell:/c%3A/Users/Gari/Desktop/NEC/NEC_Exercise_4.ipynb#X20sZmlsZQ%3D%3D?line=23'>24</a>\u001b[0m     \u001b[39m# Example distance matrix (replace this with your own)\u001b[39;00m\n\u001b[0;32m     <a href='vscode-notebook-cell:/c%3A/Users/Gari/Desktop/NEC/NEC_Exercise_4.ipynb#X20sZmlsZQ%3D%3D?line=24'>25</a>\u001b[0m     distances \u001b[39m=\u001b[39m np\u001b[39m.\u001b[39marray([[\u001b[39m0\u001b[39m, \u001b[39m10\u001b[39m, \u001b[39m15\u001b[39m, \u001b[39m20\u001b[39m],\n\u001b[0;32m     <a href='vscode-notebook-cell:/c%3A/Users/Gari/Desktop/NEC/NEC_Exercise_4.ipynb#X20sZmlsZQ%3D%3D?line=25'>26</a>\u001b[0m                           [\u001b[39m10\u001b[39m, \u001b[39m0\u001b[39m, \u001b[39m35\u001b[39m, \u001b[39m25\u001b[39m],\n\u001b[0;32m     <a href='vscode-notebook-cell:/c%3A/Users/Gari/Desktop/NEC/NEC_Exercise_4.ipynb#X20sZmlsZQ%3D%3D?line=26'>27</a>\u001b[0m                           [\u001b[39m15\u001b[39m, \u001b[39m35\u001b[39m, \u001b[39m0\u001b[39m, \u001b[39m30\u001b[39m],\n\u001b[0;32m     <a href='vscode-notebook-cell:/c%3A/Users/Gari/Desktop/NEC/NEC_Exercise_4.ipynb#X20sZmlsZQ%3D%3D?line=27'>28</a>\u001b[0m                           [\u001b[39m20\u001b[39m, \u001b[39m25\u001b[39m, \u001b[39m30\u001b[39m, \u001b[39m0\u001b[39m]])\n\u001b[1;32m---> <a href='vscode-notebook-cell:/c%3A/Users/Gari/Desktop/NEC/NEC_Exercise_4.ipynb#X20sZmlsZQ%3D%3D?line=28'>29</a>\u001b[0m     solution \u001b[39m=\u001b[39m genetic_algorithm(distances)\n\u001b[0;32m     <a href='vscode-notebook-cell:/c%3A/Users/Gari/Desktop/NEC/NEC_Exercise_4.ipynb#X20sZmlsZQ%3D%3D?line=29'>30</a>\u001b[0m     \u001b[39mprint\u001b[39m(\u001b[39m\"\u001b[39m\u001b[39mBest tour:\u001b[39m\u001b[39m\"\u001b[39m, solution)\n\u001b[0;32m     <a href='vscode-notebook-cell:/c%3A/Users/Gari/Desktop/NEC/NEC_Exercise_4.ipynb#X20sZmlsZQ%3D%3D?line=30'>31</a>\u001b[0m     \u001b[39mprint\u001b[39m(\u001b[39m\"\u001b[39m\u001b[39mTotal distance:\u001b[39m\u001b[39m\"\u001b[39m, total_distance(solution, distances))\n",
      "\u001b[1;32mc:\\Users\\Gari\\Desktop\\NEC\\NEC_Exercise_4.ipynb Cell 7\u001b[0m line \u001b[0;36m9\n\u001b[0;32m      <a href='vscode-notebook-cell:/c%3A/Users/Gari/Desktop/NEC/NEC_Exercise_4.ipynb#X20sZmlsZQ%3D%3D?line=6'>7</a>\u001b[0m selected_parents \u001b[39m=\u001b[39m [roulette_wheel_selection(population, distances) \u001b[39mfor\u001b[39;00m _ \u001b[39min\u001b[39;00m \u001b[39mrange\u001b[39m(\u001b[39m2\u001b[39m)]\n\u001b[0;32m      <a href='vscode-notebook-cell:/c%3A/Users/Gari/Desktop/NEC/NEC_Exercise_4.ipynb#X20sZmlsZQ%3D%3D?line=7'>8</a>\u001b[0m \u001b[39m# Crossover\u001b[39;00m\n\u001b[1;32m----> <a href='vscode-notebook-cell:/c%3A/Users/Gari/Desktop/NEC/NEC_Exercise_4.ipynb#X20sZmlsZQ%3D%3D?line=8'>9</a>\u001b[0m child1, child2 \u001b[39m=\u001b[39m partially_mapped_crossover(selected_parents[\u001b[39m0\u001b[39;49m], selected_parents[\u001b[39m1\u001b[39;49m])\n\u001b[0;32m     <a href='vscode-notebook-cell:/c%3A/Users/Gari/Desktop/NEC/NEC_Exercise_4.ipynb#X20sZmlsZQ%3D%3D?line=9'>10</a>\u001b[0m \u001b[39m# Mutation\u001b[39;00m\n\u001b[0;32m     <a href='vscode-notebook-cell:/c%3A/Users/Gari/Desktop/NEC/NEC_Exercise_4.ipynb#X20sZmlsZQ%3D%3D?line=10'>11</a>\u001b[0m \u001b[39mif\u001b[39;00m np\u001b[39m.\u001b[39mrandom\u001b[39m.\u001b[39mrand() \u001b[39m<\u001b[39m mutation_rate:\n",
      "\u001b[1;32mc:\\Users\\Gari\\Desktop\\NEC\\NEC_Exercise_4.ipynb Cell 7\u001b[0m line \u001b[0;36m5\n\u001b[0;32m     <a href='vscode-notebook-cell:/c%3A/Users/Gari/Desktop/NEC/NEC_Exercise_4.ipynb#X20sZmlsZQ%3D%3D?line=53'>54</a>\u001b[0m child2[start:end \u001b[39m+\u001b[39m \u001b[39m1\u001b[39m] \u001b[39m=\u001b[39m parent2[start:end \u001b[39m+\u001b[39m \u001b[39m1\u001b[39m]\n\u001b[0;32m     <a href='vscode-notebook-cell:/c%3A/Users/Gari/Desktop/NEC/NEC_Exercise_4.ipynb#X20sZmlsZQ%3D%3D?line=55'>56</a>\u001b[0m \u001b[39mfor\u001b[39;00m i \u001b[39min\u001b[39;00m \u001b[39mrange\u001b[39m(n):\n\u001b[1;32m---> <a href='vscode-notebook-cell:/c%3A/Users/Gari/Desktop/NEC/NEC_Exercise_4.ipynb#X20sZmlsZQ%3D%3D?line=56'>57</a>\u001b[0m     \u001b[39mif\u001b[39;00m parent2[i] \u001b[39mnot\u001b[39;49;00m \u001b[39min\u001b[39;49;00m child1:\n\u001b[0;32m     <a href='vscode-notebook-cell:/c%3A/Users/Gari/Desktop/NEC/NEC_Exercise_4.ipynb#X20sZmlsZQ%3D%3D?line=57'>58</a>\u001b[0m         index \u001b[39m=\u001b[39m i\n\u001b[0;32m     <a href='vscode-notebook-cell:/c%3A/Users/Gari/Desktop/NEC/NEC_Exercise_4.ipynb#X20sZmlsZQ%3D%3D?line=58'>59</a>\u001b[0m         \u001b[39mwhile\u001b[39;00m child1[index] \u001b[39m!=\u001b[39m \u001b[39m-\u001b[39m\u001b[39m1\u001b[39m:\n",
      "\u001b[1;31mValueError\u001b[0m: The truth value of an array with more than one element is ambiguous. Use a.any() or a.all()"
     ]
    }
   ],
   "source": [
    "# Genetic Algorithm\n",
    "def genetic_algorithm(distances, population_size=50, generations=100, mutation_rate=0.1):\n",
    "    num_cities = distances.shape[0]\n",
    "    population = initialize_population(population_size, num_cities)\n",
    "    for generation in range(generations):\n",
    "        # Selection\n",
    "        selected_parents = [roulette_wheel_selection(population, distances) for _ in range(2)]\n",
    "        # Crossover\n",
    "        child1, child2 = partially_mapped_crossover(selected_parents[0], selected_parents[1])\n",
    "        # Mutation\n",
    "        if np.random.rand() < mutation_rate:\n",
    "            child1 = swap_mutation(child1)\n",
    "        if np.random.rand() < mutation_rate:\n",
    "            child2 = inversion_mutation(child2)\n",
    "        # Replace the worst individuals with the children\n",
    "        population.remove(max(population, key=lambda x: total_distance(x, distances)))\n",
    "        population.remove(max(population, key=lambda x: total_distance(x, distances)))\n",
    "        population.extend([child1, child2])\n",
    "    # Return the best solution found\n",
    "    return min(population, key=lambda x: total_distance(x, distances))\n",
    "\n",
    "# small dataset to try\n",
    "if __name__ == \"__main__\":\n",
    "    # Example distance matrix\n",
    "    distances = np.array([[0, 10, 15, 20],\n",
    "                          [10, 0, 35, 25],\n",
    "                          [15, 35, 0, 30],\n",
    "                          [20, 25, 30, 0]])\n",
    "    solution = genetic_algorithm(distances)\n",
    "    print(\"Best tour:\", solution)\n",
    "    print(\"Total distance:\", total_distance(solution, distances))\n"
   ]
  },
  {
   "cell_type": "code",
   "execution_count": null,
   "metadata": {},
   "outputs": [],
   "source": []
  }
 ],
 "metadata": {
  "kernelspec": {
   "display_name": "projects",
   "language": "python",
   "name": "python3"
  },
  "language_info": {
   "codemirror_mode": {
    "name": "ipython",
    "version": 3
   },
   "file_extension": ".py",
   "mimetype": "text/x-python",
   "name": "python",
   "nbconvert_exporter": "python",
   "pygments_lexer": "ipython3",
   "version": "3.11.5"
  },
  "orig_nbformat": 4
 },
 "nbformat": 4,
 "nbformat_minor": 2
}
