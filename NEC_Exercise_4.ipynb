{
 "cells": [
  {
   "cell_type": "code",
   "execution_count": null,
   "metadata": {},
   "outputs": [],
   "source": [
    "# Packages\n",
    "import tsplib95\n",
    "import random\n",
    "import matplotlib.pyplot as plt\n",
    "import os\n",
    "import gzip"
   ]
  },
  {
   "cell_type": "markdown",
   "metadata": {},
   "source": [
    "URV                                                                            MESIIA\n",
    "\n",
    "Neural and Evolutionary Computation (NEC)\n",
    "Assignment 4: Optimization with Genetic Algorithm\n",
    "\n",
    "Teachers: Dr. Jordi Duch, Dr. Sergio Gomez\n",
    "\n",
    "Student: Natzaret Gálvez Rísquez"
   ]
  },
  {
   "cell_type": "markdown",
   "metadata": {},
   "source": [
    "Implementing a genetic algorithm for the Traveling Salesman Problem (TSP) using the TSPLIB library "
   ]
  },
  {
   "cell_type": "code",
   "execution_count": null,
   "metadata": {},
   "outputs": [],
   "source": [
    "# File paths\n",
    "tsp_file_path = 'C:/Users/Gari/Desktop/Assignments_NEC/A4/eil101.tsp'\n",
    "\n",
    "# Load the dataset\n",
    "dataset = tsplib95.load(tsp_file_path)"
   ]
  },
  {
   "cell_type": "markdown",
   "metadata": {},
   "source": [
    "Genetic algorithm  for solving the Traveling Salesman Problem (TSP) using permutation representation and various selection, mutation, and crossover techniques"
   ]
  },
  {
   "cell_type": "code",
   "execution_count": 38,
   "metadata": {},
   "outputs": [],
   "source": [
    "import numpy as np\n",
    "\n",
    "def euclidean_distance(coord1, coord2):\n",
    "    return np.sqrt((coord1[0] - coord2[0])**2 + (coord1[1] - coord2[1])**2)\n",
    "\n",
    "def parse_dataset(dataset):\n",
    "    node_coords = {}\n",
    "    for node in dataset.node_coords:\n",
    "        node_coords[node] = dataset.node_coords[node]\n",
    "    return node_coords\n",
    "\n",
    "def compute_distances(node_coords):\n",
    "    num_cities = len(node_coords)\n",
    "    distances = np.zeros((num_cities, num_cities))\n",
    "    for i in range(1, num_cities + 1):\n",
    "        for j in range(1, num_cities + 1):\n",
    "            distances[i - 1, j - 1] = euclidean_distance(node_coords[i], node_coords[j])\n",
    "    return distances\n",
    "\n",
    "def roulette_wheel_selection(population, distances):\n",
    "    fitness_values = np.array([1 / total_distance(individual, distances) for individual in population])\n",
    "    probabilities = fitness_values / np.sum(fitness_values)\n",
    "    selected_index = np.random.choice(len(population), p=probabilities)\n",
    "    return population[selected_index]\n",
    "\n",
    "def partially_mapped_crossover(parent1, parent2):\n",
    "    n = len(parent1)\n",
    "    start, end = sorted(np.random.choice(n, 2, replace=False))\n",
    "    child1, child2 = [-1] * n, [-1] * n\n",
    "    child1[start:end + 1] = parent1[start:end + 1]\n",
    "    child2[start:end + 1] = parent2[start:end + 1]\n",
    "\n",
    "    for i in range(n):\n",
    "        if not np.any(np.equal(parent2[i], child1)):\n",
    "            index = i\n",
    "            while np.any(child1[index] != -1):\n",
    "                index = np.where(parent1 == parent2[index])[0][0]\n",
    "            child1[index] = parent2[i]\n",
    "        if not np.any(np.equal(parent1[i], child2)):\n",
    "            index = i\n",
    "            while np.any(child2[index] != -1):\n",
    "                index = np.where(parent2 == parent1[index])[0][0]\n",
    "            child2[index] = parent1[i]\n",
    "\n",
    "    return child1, child2\n",
    "\n",
    "def inversion_mutation(solution):\n",
    "    n = len(solution)\n",
    "    start, end = sorted(np.random.choice(n, 2, replace=False))\n",
    "    return np.concatenate((solution[:start], np.flip(solution[start:end + 1]), solution[end + 1:]))"
   ]
  },
  {
   "cell_type": "code",
   "execution_count": null,
   "metadata": {},
   "outputs": [],
   "source": [
    "def genetic_algorithm(distances, population_size=100, max_generations=100):\n",
    "    n = distances.shape[0]\n",
    "    population = [list(np.random.permutation(range(n))) for _ in range(population_size)]  # Convert arrays to lists\n",
    "\n",
    "    for generation in range(max_generations):\n",
    "        # Selection\n",
    "        selected_parents = [roulette_wheel_selection(population, distances) for _ in range(2)]\n",
    "\n",
    "        # Crossover\n",
    "        child1, child2 = partially_mapped_crossover(selected_parents[0], selected_parents[1])\n",
    "\n",
    "        # Mutation\n",
    "        mutation_rate = 0.01\n",
    "        if np.random.rand() < mutation_rate:\n",
    "            child1 = inversion_mutation(child1)\n",
    "        if np.random.rand() < mutation_rate:\n",
    "            child2 = inversion_mutation(child2)\n",
    "\n",
    "        # Replace the worst individuals with the children\n",
    "        distances_population = [total_distance(individual, distances) for individual in population]\n",
    "        worst1_idx = np.argmax(distances_population)\n",
    "        population.pop(worst1_idx)\n",
    "\n",
    "        distances_population = [total_distance(individual, distances) for individual in population]\n",
    "        worst2_idx = np.argmax(distances_population)\n",
    "        population.pop(worst2_idx)\n",
    "\n",
    "        population.extend([child1, child2])\n",
    "\n",
    "    best_solution = min(population, key=lambda x: total_distance(x, distances))\n",
    "    return best_solution"
   ]
  },
  {
   "cell_type": "code",
   "execution_count": null,
   "metadata": {},
   "outputs": [],
   "source": [
    "if __name__ == \"__main__\":\n",
    "    # Dataset\n",
    "    # Parse the dataset\n",
    "    node_coords = parse_dataset(dataset)\n",
    "    # Compute distances\n",
    "    distances = compute_distances(node_coords)\n",
    "    #print(\"Best tour:\", solution)\n",
    "    #print(\"Total distance:\", total_distance(solution, distances))"
   ]
  }
 ],
 "metadata": {
  "kernelspec": {
   "display_name": "projects",
   "language": "python",
   "name": "python3"
  },
  "language_info": {
   "codemirror_mode": {
    "name": "ipython",
    "version": 3
   },
   "file_extension": ".py",
   "mimetype": "text/x-python",
   "name": "python",
   "nbconvert_exporter": "python",
   "pygments_lexer": "ipython3",
   "version": "3.11.5"
  },
  "orig_nbformat": 4
 },
 "nbformat": 4,
 "nbformat_minor": 2
}
