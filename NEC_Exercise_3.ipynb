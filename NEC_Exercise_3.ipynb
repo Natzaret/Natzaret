{
 "cells": [
  {
   "cell_type": "code",
   "execution_count": null,
   "metadata": {},
   "outputs": [],
   "source": [
    "# Packages\n",
    "import pandas as pd\n",
    "from scipy.io import arff\n",
    "import pandas as pd\n",
    "import numpy as np\n",
    "\n",
    "#pip install minisom"
   ]
  },
  {
   "cell_type": "markdown",
   "metadata": {},
   "source": [
    "URV                                                                            MESIIA\n",
    "\n",
    "Neural and Evolutionary Computation (NEC)\n",
    "Assignment 3: Unsupervised learning with PCA, t-SNE, k-means, AHC and SOM\n",
    "\n",
    "Teachers: Dr. Jordi Duch, Dr. Sergio Gomez\n",
    "\n",
    "Student: Natzaret Gálvez Rísquez"
   ]
  },
  {
   "cell_type": "markdown",
   "metadata": {},
   "source": [
    "Part 1: Selecting and analyzing the datasets"
   ]
  },
  {
   "cell_type": "markdown",
   "metadata": {},
   "source": [
    "The unsupervised learning techniques must be applied on two datasets:"
   ]
  },
  {
   "cell_type": "code",
   "execution_count": null,
   "metadata": {},
   "outputs": [],
   "source": [
    "# We upload the datasets\n",
    "\n",
    "# First dataset: File: A3-data.txt\n",
    "    # Features: 4 variables, 1 class\n",
    "    # Patterns: 360 patterns\n",
    "data = pd.read_csv('C:/Users/Gari/Desktop/Assignments_NEC/A3/A3-data.txt', sep=',', header=None)\n",
    "header_vector_data = data.iloc[0, :].tolist() #header\n",
    "df_data = pd.DataFrame(data.iloc[1:, :-1])\n",
    "class_data = pd.DataFrame(data.iloc[1:, -1])\n",
    "\n",
    "# Second dataset: from \"https://www.openml.org/search?type=data&status=active&id=188\"\n",
    "    # Features: at least 6 variables, and a class attribute\n",
    "    # The class attribute must refer to, at least, 4 different classes\n",
    "    #  Patterns: at least 200 patterns\n",
    "data_Eucaliptus, meta = arff.loadarff('C:/Users/Gari/Desktop/Assignments_NEC/A3/dataset_194_eucalyptus.arff')\n",
    "# Convert numpy array to DataFrame\n",
    "# [736 rows x 20 columns], number of classes 5\n",
    "dataframe_Eucaliptus = pd.DataFrame(data_Eucaliptus)\n",
    "df_Eucaliptus = dataframe_Eucaliptus.iloc[:, :-1]\n",
    "class_eucaliptus = dataframe_Eucaliptus.iloc[:, -1]"
   ]
  },
  {
   "cell_type": "code",
   "execution_count": null,
   "metadata": {},
   "outputs": [],
   "source": [
    "print(meta) # Details of the second dataset"
   ]
  },
  {
   "cell_type": "code",
   "execution_count": null,
   "metadata": {},
   "outputs": [],
   "source": [
    "print(dataframe_Eucaliptus) # Details of the second dataset"
   ]
  },
  {
   "cell_type": "markdown",
   "metadata": {},
   "source": [
    "Part 2: Comparing unsupervised learning algorithms"
   ]
  },
  {
   "cell_type": "markdown",
   "metadata": {},
   "source": [
    "We are going to perform unsupervised learning of the two datasets using the following algorithms:\n",
    "PCA, t-SNE, k-means, AHC and SOM"
   ]
  },
  {
   "cell_type": "code",
   "execution_count": null,
   "metadata": {},
   "outputs": [],
   "source": [
    "# PCA\n",
    "from sklearn.decomposition import PCA\n",
    "import matplotlib.pyplot as plt\n",
    "\n",
    "def apply_pca(data, labels, n_components=2):\n",
    "    pca = PCA(n_components=n_components)\n",
    "    pca_result = pca.fit_transform(data)\n",
    "\n",
    "    # Scatter plot of the first two principal components\n",
    "    plt.figure(figsize=(8, 6))\n",
    "    plt.scatter(pca_result[:, 0], pca_result[:, 1], c=labels, cmap='viridis')\n",
    "    plt.xlabel('PC1')\n",
    "    plt.ylabel('PC2')\n",
    "    plt.title('PCA Projection')\n",
    "    plt.colorbar()\n",
    "    plt.show()\n",
    "\n",
    "    # Scree plot\n",
    "    plt.figure(figsize=(8, 6))\n",
    "    plt.plot(range(1, len(pca.explained_variance_ratio_) + 1), pca.explained_variance_ratio_, marker='o', linestyle='-')\n",
    "    plt.xlabel('Number of Components')\n",
    "    plt.ylabel('Explained Variance Ratio')\n",
    "    plt.title('Scree Plot')\n",
    "    plt.grid(True)\n",
    "    plt.show()"
   ]
  },
  {
   "cell_type": "code",
   "execution_count": null,
   "metadata": {},
   "outputs": [],
   "source": [
    "# t-SNE\n",
    "from sklearn.manifold import TSNE\n",
    "\n",
    "def apply_tsne(data, labels, perplexity=30):\n",
    "    tsne = TSNE(n_components=2, perplexity=perplexity)\n",
    "    tsne_result = tsne.fit_transform(data)\n",
    "\n",
    "    plt.figure(figsize=(8, 6))\n",
    "    plt.scatter(tsne_result[:, 0], tsne_result[:, 1], c=labels, cmap='viridis')\n",
    "    plt.xlabel('t-SNE 1')\n",
    "    plt.ylabel('t-SNE 2')\n",
    "    plt.title(f't-SNE Projection (Perplexity={perplexity})')\n",
    "    plt.colorbar()\n",
    "    plt.show()"
   ]
  },
  {
   "cell_type": "code",
   "execution_count": null,
   "metadata": {},
   "outputs": [],
   "source": [
    "# k-means\n",
    "from sklearn.cluster import KMeans\n",
    "from sklearn.metrics import confusion_matrix\n",
    "from sklearn.preprocessing import StandardScaler\n",
    "from sklearn.decomposition import PCA\n",
    "\n",
    "def apply_kmeans(data, labels, k):\n",
    "# Standardize the data\n",
    "    scaler = StandardScaler()\n",
    "    scaled_data = scaler.fit_transform(data)\n",
    "    \n",
    "    # Apply PCA for dimensionality reduction\n",
    "    pca = PCA(n_components=2)\n",
    "    reduced_data = pca.fit_transform(scaled_data)\n",
    "    \n",
    "    # Perform K-means clustering\n",
    "    kmeans = KMeans(n_clusters=k, init='k-means++', random_state=42)\n",
    "    cluster_labels = kmeans.fit_predict(reduced_data)\n",
    "    \n",
    "    # Scatter plot of the data colored according to the true classes\n",
    "    plt.figure(figsize=(8, 6))\n",
    "    plt.scatter(reduced_data[:, 0], reduced_data[:, 1], c=labels, cmap='viridis')\n",
    "    plt.xlabel('Principal Component 1')\n",
    "    plt.ylabel('Principal Component 2')\n",
    "    plt.title('True Classes')\n",
    "    plt.colorbar()\n",
    "    plt.show()\n",
    "    \n",
    "    # Scatter plot of the data colored according to the clusters obtained by K-means\n",
    "    plt.figure(figsize=(8, 6))\n",
    "    plt.scatter(reduced_data[:, 0], reduced_data[:, 1], c=cluster_labels, cmap='viridis')\n",
    "    plt.scatter(kmeans.cluster_centers_[:, 0], kmeans.cluster_centers_[:, 1], marker='x', s=100, c='red')\n",
    "    plt.xlabel('Principal Component 1')\n",
    "    plt.ylabel('Principal Component 2')\n",
    "    plt.title(f'K-means Clustering (k={k})')\n",
    "    plt.colorbar()\n",
    "    plt.show()\n",
    "    \n",
    "    # Compare with the real class labels\n",
    "    if k == len(np.unique(labels)):\n",
    "        cm = confusion_matrix(labels, cluster_labels)\n",
    "        print(\"Confusion Matrix:\")\n",
    "        print(cm)"
   ]
  },
  {
   "cell_type": "code",
   "execution_count": null,
   "metadata": {},
   "outputs": [],
   "source": [
    "# AHC\n",
    "from scipy.cluster.hierarchy import linkage, dendrogram\n",
    "from scipy.spatial.distance import pdist\n",
    "\n",
    "# Method UPGMA -> method average\n",
    "def apply_ahc(data, labels, method='average'):\n",
    "    # Calculate Euclidean distances between original patterns\n",
    "    data_numeric = data.apply(pd.to_numeric)\n",
    "\n",
    "    # Calculate linkage matrix\n",
    "    linkage_matrix = linkage(data_numeric, method=method)\n",
    "\n",
    "    # Plot dendrogram with colors representing original classes\n",
    "    plt.figure(figsize=(12, 8))\n",
    "    dendrogram(linkage_matrix, \n",
    "               color_threshold=0, \n",
    "               labels=labels,\n",
    "               leaf_font_size=10,\n",
    "               above_threshold_color='k')\n",
    "    plt.title(f'Agglomerative Hierarchical Clustering ({method.capitalize()} Linkage)')\n",
    "    plt.xlabel('Sample Index')\n",
    "    plt.ylabel('Distance')\n",
    "    plt.show()"
   ]
  },
  {
   "cell_type": "code",
   "execution_count": 77,
   "metadata": {},
   "outputs": [],
   "source": [
    "# SOM\n",
    "from minisom import MiniSom\n",
    "import numpy as np\n",
    "import matplotlib.pyplot as plt\n",
    "\n",
    "def apply_som(data, labels, mapsize=(10, 10), topology='rectangular', learning_rate=0.02, neighborhood_function='gaussian'):\n",
    "    # Ensure at least 100 neurons\n",
    "    if mapsize[0] * mapsize[1] < 100:\n",
    "        raise ValueError(\"Number of neurons is less than 100. Please choose a larger mapsize.\")\n",
    "\n",
    "    # Convert DataFrame to numpy array\n",
    "    data_array = data.to_numpy()\n",
    "\n",
    "    # Normalize the data\n",
    "    data_normalized = (data_array - data_array.min(axis=0)) / (data_array.max(axis=0) - data_array.min(axis=0))\n",
    "\n",
    "    # Train the SOM\n",
    "    som = MiniSom(mapsize[0], mapsize[1], data_array.shape[1], sigma=0.3, learning_rate=learning_rate, topology=topology, neighborhood_function=neighborhood_function)\n",
    "    som.train_random(data_normalized, 100)\n",
    "\n",
    "    # Plot component planes\n",
    "    plt.figure(figsize=(12, 8))\n",
    "    plt.suptitle('Component Planes')\n",
    "    for i in range(data.shape[1]):  # Loop over the number of features\n",
    "        plt.subplot(1, len(data), i+1)\n",
    "        plt.title(f'Feature {i+1}')\n",
    "        plt.pcolor(som.get_weights()[:, :, i].T, cmap='viridis')  # Modify this line\n",
    "        plt.colorbar()\n",
    "    plt.show()\n",
    "\n",
    "    # Plot U-matrix\n",
    "    plt.figure(figsize=(10, 8))\n",
    "    umatrix = som.distance_map()\n",
    "    plt.pcolor(umatrix, cmap='viridis')\n",
    "    plt.colorbar()\n",
    "    plt.title('U-matrix')\n",
    "    plt.show()\n",
    "\n",
    "    # Find the best matching units (BMUs) for each data point\n",
    "    bmus = np.array([som.winner(x) for x in data])\n",
    "\n",
    "    # Calculate the most represented class for each position\n",
    "    most_represented_class = np.zeros(som.get_weights().shape[:2])\n",
    "    for i, j in np.ndindex(som.get_weights().shape[:2]):\n",
    "        indices = np.where(np.all(bmus == (i, j), axis=1))\n",
    "        if len(indices[0]) > 0:\n",
    "            most_represented_class[i, j] = np.argmax(np.bincount(labels[indices].astype(int)))\n",
    "\n",
    "    # Plot heatmap of the most represented class in each position\n",
    "    plt.figure(figsize=(10, 8))\n",
    "    plt.imshow(most_represented_class, cmap='viridis')\n",
    "    plt.colorbar(label='Class')\n",
    "    plt.title('Heatmap of the Most Represented Class')\n",
    "    plt.show()\n"
   ]
  },
  {
   "cell_type": "markdown",
   "metadata": {},
   "source": [
    "Dataset 1: data"
   ]
  },
  {
   "cell_type": "code",
   "execution_count": 76,
   "metadata": {},
   "outputs": [
    {
     "data": {
      "image/png": "[encoded data removed]",
      "text/plain": [
       "<Figure size 1200x800 with 8 Axes>"
      ]
     },
     "metadata": {},
     "output_type": "display_data"
    },
    {
     "data": {
      "image/png": "[encoded data removed]",
      "text/plain": [
       "<Figure size 1000x800 with 2 Axes>"
      ]
     },
     "metadata": {},
     "output_type": "display_data"
    },
    {
     "ename": "UnboundLocalError",
     "evalue": "cannot access local variable 'indices' where it is not associated with a value",
     "output_type": "error",
     "traceback": [
      "\u001b[1;31m---------------------------------------------------------------------------\u001b[0m",
      "\u001b[1;31mUnboundLocalError\u001b[0m                         Traceback (most recent call last)",
      "\u001b[1;32mc:\\Users\\Gari\\Desktop\\NEC\\NEC_Exercise_3.ipynb Cell 16\u001b[0m line \u001b[0;36m1\n\u001b[0;32m      <a href='vscode-notebook-cell:/c%3A/Users/Gari/Desktop/NEC/NEC_Exercise_3.ipynb#X22sZmlsZQ%3D%3D?line=3'>4</a>\u001b[0m \u001b[39m#apply_pca(df_data, labels)\u001b[39;00m\n\u001b[0;32m      <a href='vscode-notebook-cell:/c%3A/Users/Gari/Desktop/NEC/NEC_Exercise_3.ipynb#X22sZmlsZQ%3D%3D?line=4'>5</a>\u001b[0m \u001b[39m#apply_tsne(df_data, labels)\u001b[39;00m\n\u001b[0;32m      <a href='vscode-notebook-cell:/c%3A/Users/Gari/Desktop/NEC/NEC_Exercise_3.ipynb#X22sZmlsZQ%3D%3D?line=5'>6</a>\u001b[0m \u001b[39m#apply_ahc(df_data, labels)\u001b[39;00m\n\u001b[0;32m      <a href='vscode-notebook-cell:/c%3A/Users/Gari/Desktop/NEC/NEC_Exercise_3.ipynb#X22sZmlsZQ%3D%3D?line=6'>7</a>\u001b[0m \u001b[39m#apply_kmeans(data_array, labelsKmeans.astype(int), k=6)\u001b[39;00m\n\u001b[0;32m      <a href='vscode-notebook-cell:/c%3A/Users/Gari/Desktop/NEC/NEC_Exercise_3.ipynb#X22sZmlsZQ%3D%3D?line=8'>9</a>\u001b[0m numeric_data \u001b[39m=\u001b[39m df_data\u001b[39m.\u001b[39mapply(pd\u001b[39m.\u001b[39mto_numeric)\n\u001b[1;32m---> <a href='vscode-notebook-cell:/c%3A/Users/Gari/Desktop/NEC/NEC_Exercise_3.ipynb#X22sZmlsZQ%3D%3D?line=9'>10</a>\u001b[0m apply_som(numeric_data, labels)\n",
      "\u001b[1;32mc:\\Users\\Gari\\Desktop\\NEC\\NEC_Exercise_3.ipynb Cell 16\u001b[0m line \u001b[0;36m4\n\u001b[0;32m     <a href='vscode-notebook-cell:/c%3A/Users/Gari/Desktop/NEC/NEC_Exercise_3.ipynb#X22sZmlsZQ%3D%3D?line=41'>42</a>\u001b[0m \u001b[39m# Calculate the most represented class for each position\u001b[39;00m\n\u001b[0;32m     <a href='vscode-notebook-cell:/c%3A/Users/Gari/Desktop/NEC/NEC_Exercise_3.ipynb#X22sZmlsZQ%3D%3D?line=42'>43</a>\u001b[0m unique_classes \u001b[39m=\u001b[39m np\u001b[39m.\u001b[39munique(labels)\n\u001b[1;32m---> <a href='vscode-notebook-cell:/c%3A/Users/Gari/Desktop/NEC/NEC_Exercise_3.ipynb#X22sZmlsZQ%3D%3D?line=43'>44</a>\u001b[0m most_represented_class[i, j] \u001b[39m=\u001b[39m np\u001b[39m.\u001b[39margmax(np\u001b[39m.\u001b[39mbincount(labels[indices]\u001b[39m.\u001b[39mastype(\u001b[39mint\u001b[39m)))\n\u001b[0;32m     <a href='vscode-notebook-cell:/c%3A/Users/Gari/Desktop/NEC/NEC_Exercise_3.ipynb#X22sZmlsZQ%3D%3D?line=44'>45</a>\u001b[0m \u001b[39mfor\u001b[39;00m i, j \u001b[39min\u001b[39;00m np\u001b[39m.\u001b[39mndindex(som\u001b[39m.\u001b[39mget_weights()\u001b[39m.\u001b[39mshape[:\u001b[39m2\u001b[39m]):\n\u001b[0;32m     <a href='vscode-notebook-cell:/c%3A/Users/Gari/Desktop/NEC/NEC_Exercise_3.ipynb#X22sZmlsZQ%3D%3D?line=45'>46</a>\u001b[0m     indices \u001b[39m=\u001b[39m np\u001b[39m.\u001b[39mwhere(np\u001b[39m.\u001b[39mall(bmus \u001b[39m==\u001b[39m (i, j), axis\u001b[39m=\u001b[39m\u001b[39m1\u001b[39m))\n",
      "\u001b[1;31mUnboundLocalError\u001b[0m: cannot access local variable 'indices' where it is not associated with a value"
     ]
    }
   ],
   "source": [
    "labels = class_data.values\n",
    "labelsKmeans = labels.flatten()\n",
    "data_array = df_data.to_numpy()\n",
    "#apply_pca(df_data, labels)\n",
    "#apply_tsne(df_data, labels)\n",
    "#apply_ahc(df_data, labels)\n",
    "#apply_kmeans(data_array, labelsKmeans.astype(int), k=6)\n",
    "\n",
    "numeric_data = df_data.apply(pd.to_numeric)\n",
    "apply_som(numeric_data, labels)"
   ]
  },
  {
   "cell_type": "markdown",
   "metadata": {},
   "source": [
    "Dataset 2: eucaliptus"
   ]
  },
  {
   "cell_type": "code",
   "execution_count": null,
   "metadata": {},
   "outputs": [],
   "source": [
    "labels = class_eucaliptus\n",
    "\n",
    "apply_pca(df_Eucaliptus, labels)\n",
    "apply_tsne(df_Eucaliptus, labels)\n",
    "apply_kmeans(df_Eucaliptus, labels, k=5)\n",
    "apply_ahc(df_Eucaliptus)\n",
    "apply_som(df_Eucaliptus, labels)"
   ]
  }
 ],
 "metadata": {
  "kernelspec": {
   "display_name": "projects",
   "language": "python",
   "name": "python3"
  },
  "language_info": {
   "codemirror_mode": {
    "name": "ipython",
    "version": 3
   },
   "file_extension": ".py",
   "mimetype": "text/x-python",
   "name": "python",
   "nbconvert_exporter": "python",
   "pygments_lexer": "ipython3",
   "version": "3.11.5"
  },
  "orig_nbformat": 4
 },
 "nbformat": 4,
 "nbformat_minor": 2
}
