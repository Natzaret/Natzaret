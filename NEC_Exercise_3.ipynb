{
 "cells": [
  {
   "cell_type": "code",
   "execution_count": 2,
   "metadata": {},
   "outputs": [],
   "source": [
    "# Packages\n",
    "import pandas as pd\n",
    "from scipy.io import arff\n",
    "import pandas as pd"
   ]
  },
  {
   "cell_type": "markdown",
   "metadata": {},
   "source": [
    "URV                                                                            MESIIA\n",
    "\n",
    "Neural and Evolutionary Computation (NEC)\n",
    "Assignment 3: Unsupervised learning with PCA, t-SNE, k-means, AHC and SOM\n",
    "\n",
    "Teachers: Dr. Jordi Duch, Dr. Sergio Gomez\n",
    "\n",
    "Student: Natzaret Gálvez Rísquez"
   ]
  },
  {
   "cell_type": "markdown",
   "metadata": {},
   "source": [
    "Part 1: Selecting and analyzing the datasets"
   ]
  },
  {
   "cell_type": "markdown",
   "metadata": {},
   "source": [
    "The unsupervised learning techniques must be applied on two datasets:"
   ]
  },
  {
   "cell_type": "code",
   "execution_count": 10,
   "metadata": {},
   "outputs": [],
   "source": [
    "# We upload the datasets\n",
    "\n",
    "# First dataset: File: A3-data.txt\n",
    "    # Features: 4 variables, 1 class\n",
    "    # Patterns: 360 patterns\n",
    "df_data=pd.read_csv('C:/Users/Gari/Desktop/Assignments_NEC/A3/A3-data.txt', sep=',', header=None)\n",
    "header_vector_data = df_data.iloc[0, :].tolist() #header\n",
    "df_data=df_data.iloc[1:,:-1]\n",
    "df_data=pd.DataFrame(df_data)\n",
    "\n",
    "# Second dataset: from \"https://www.openml.org/search?type=data&status=active&id=188\"\n",
    "    # Features: at least 6 variables, and a class attribute\n",
    "    # The class attribute must refer to, at least, 4 different classes\n",
    "    #  Patterns: at least 200 patterns\n",
    "data_Eucaliptus, meta = arff.loadarff('C:/Users/Gari/Desktop/Assignments_NEC/A3/dataset_194_eucalyptus.arff')\n",
    "# Convert numpy array to DataFrame\n",
    "df_Eucaliptus = pd.DataFrame(data_Eucaliptus)"
   ]
  }
 ],
 "metadata": {
  "kernelspec": {
   "display_name": "projects",
   "language": "python",
   "name": "python3"
  },
  "language_info": {
   "codemirror_mode": {
    "name": "ipython",
    "version": 3
   },
   "file_extension": ".py",
   "mimetype": "text/x-python",
   "name": "python",
   "nbconvert_exporter": "python",
   "pygments_lexer": "ipython3",
   "version": "3.11.5"
  },
  "orig_nbformat": 4
 },
 "nbformat": 4,
 "nbformat_minor": 2
}
