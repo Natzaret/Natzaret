{
 "cells": [
  {
   "cell_type": "code",
   "execution_count": 2,
   "metadata": {},
   "outputs": [],
   "source": [
    "# Packages\n",
    "import pandas as pd\n",
    "from scipy.io import arff\n",
    "import pandas as pd"
   ]
  },
  {
   "cell_type": "markdown",
   "metadata": {},
   "source": [
    "URV                                                                            MESIIA\n",
    "\n",
    "Neural and Evolutionary Computation (NEC)\n",
    "Assignment 3: Unsupervised learning with PCA, t-SNE, k-means, AHC and SOM\n",
    "\n",
    "Teachers: Dr. Jordi Duch, Dr. Sergio Gomez\n",
    "\n",
    "Student: Natzaret Gálvez Rísquez"
   ]
  },
  {
   "cell_type": "markdown",
   "metadata": {},
   "source": [
    "Part 1: Selecting and analyzing the datasets"
   ]
  },
  {
   "cell_type": "markdown",
   "metadata": {},
   "source": [
    "The unsupervised learning techniques must be applied on two datasets:"
   ]
  },
  {
   "cell_type": "code",
   "execution_count": 10,
   "metadata": {},
   "outputs": [],
   "source": [
    "# We upload the datasets\n",
    "\n",
    "# First dataset: File: A3-data.txt\n",
    "    # Features: 4 variables, 1 class\n",
    "    # Patterns: 360 patterns\n",
    "df_data=pd.read_csv('C:/Users/Gari/Desktop/Assignments_NEC/A3/A3-data.txt', sep=',', header=None)\n",
    "header_vector_data = df_data.iloc[0, :].tolist() #header\n",
    "df_data=df_data.iloc[1:,:-1]\n",
    "df_data=pd.DataFrame(df_data)\n",
    "\n",
    "# Second dataset: from \"https://www.openml.org/search?type=data&status=active&id=188\"\n",
    "    # Features: at least 6 variables, and a class attribute\n",
    "    # The class attribute must refer to, at least, 4 different classes\n",
    "    #  Patterns: at least 200 patterns\n",
    "data_Eucaliptus, meta = arff.loadarff('C:/Users/Gari/Desktop/Assignments_NEC/A3/dataset_194_eucalyptus.arff')\n",
    "# Convert numpy array to DataFrame\n",
    "# [736 rows x 20 columns], number of classes 5\n",
    "df_Eucaliptus = pd.DataFrame(data_Eucaliptus)"
   ]
  },
  {
   "cell_type": "code",
   "execution_count": null,
   "metadata": {},
   "outputs": [],
   "source": [
    "print(meta) # Details of the second dataset"
   ]
  },
  {
   "cell_type": "code",
   "execution_count": null,
   "metadata": {},
   "outputs": [],
   "source": [
    "print(df_Eucaliptus) # Details of the second dataset"
   ]
  },
  {
   "cell_type": "markdown",
   "metadata": {},
   "source": [
    "Part 2: Comparing unsupervised learning algorithms"
   ]
  },
  {
   "cell_type": "markdown",
   "metadata": {},
   "source": [
    "We are going to perform unsupervised learning of the two datasets using the following algorithms:\n",
    "PCA, t-SNE, k-means, AHC and SOM"
   ]
  },
  {
   "cell_type": "code",
   "execution_count": null,
   "metadata": {},
   "outputs": [],
   "source": [
    "# PCA\n",
    "from sklearn.decomposition import PCA\n",
    "import matplotlib.pyplot as plt\n",
    "\n",
    "def apply_pca(data, n_components=2):\n",
    "    pca = PCA(n_components=n_components)\n",
    "    pca_result = pca.fit_transform(data)\n",
    "\n",
    "    # Scatter plot of the first two principal components\n",
    "    plt.figure(figsize=(8, 6))\n",
    "    plt.scatter(pca_result[:, 0], pca_result[:, 1], c=labels, cmap='viridis')\n",
    "    plt.xlabel('PC1')\n",
    "    plt.ylabel('PC2')\n",
    "    plt.title('PCA Projection')\n",
    "    plt.colorbar()\n",
    "    plt.show()\n",
    "\n",
    "    # Scree plot\n",
    "    plt.figure(figsize=(8, 6))\n",
    "    plt.plot(range(1, len(pca.explained_variance_ratio_) + 1), pca.explained_variance_ratio_, marker='o', linestyle='-')\n",
    "    plt.xlabel('Number of Components')\n",
    "    plt.ylabel('Explained Variance Ratio')\n",
    "    plt.title('Scree Plot')\n",
    "    plt.grid(True)\n",
    "    plt.show()"
   ]
  },
  {
   "cell_type": "code",
   "execution_count": null,
   "metadata": {},
   "outputs": [],
   "source": [
    "# t-SNE\n",
    "from sklearn.manifold import TSNE\n",
    "\n",
    "def apply_tsne(data, perplexity=30):\n",
    "    tsne = TSNE(n_components=2, perplexity=perplexity)\n",
    "    tsne_result = tsne.fit_transform(data)\n",
    "\n",
    "    plt.figure(figsize=(8, 6))\n",
    "    plt.scatter(tsne_result[:, 0], tsne_result[:, 1], c=labels, cmap='viridis')\n",
    "    plt.xlabel('t-SNE 1')\n",
    "    plt.ylabel('t-SNE 2')\n",
    "    plt.title(f't-SNE Projection (Perplexity={perplexity})')\n",
    "    plt.colorbar()\n",
    "    plt.show()"
   ]
  },
  {
   "cell_type": "code",
   "execution_count": null,
   "metadata": {},
   "outputs": [],
   "source": [
    "# k-means\n",
    "from sklearn.cluster import KMeans\n",
    "from sklearn.metrics import confusion_matrix\n",
    "\n",
    "def apply_kmeans(data, k):\n",
    "    kmeans = KMeans(n_clusters=k)\n",
    "    kmeans.fit(data)\n",
    "    cluster_labels = kmeans.labels_\n",
    "\n",
    "    plt.figure(figsize=(8, 6))\n",
    "    plt.scatter(data[:, 0], data[:, 1], c=cluster_labels, cmap='viridis')\n",
    "    plt.xlabel('Feature 1')\n",
    "    plt.ylabel('Feature 2')\n",
    "    plt.title(f'K-means Clustering (k={k})')\n",
    "    plt.colorbar()\n",
    "    plt.show()\n",
    "\n",
    "    if k == len(np.unique(labels)):\n",
    "        cm = confusion_matrix(labels, cluster_labels)\n",
    "        print(\"Confusion Matrix:\")\n",
    "        print(cm)"
   ]
  },
  {
   "cell_type": "code",
   "execution_count": null,
   "metadata": {},
   "outputs": [],
   "source": [
    "# AHC\n",
    "from scipy.cluster.hierarchy import linkage, dendrogram\n",
    "\n",
    "def apply_ahc(data, method='average'):\n",
    "    # Calculate linkage matrix\n",
    "    linkage_matrix = linkage(data, method=method)\n",
    "\n",
    "    # Plot dendrogram\n",
    "    plt.figure(figsize=(12, 8))\n",
    "    dendrogram(linkage_matrix)\n",
    "    plt.title(f'Agglomerative Hierarchical Clustering ({method.capitalize()} Linkage)')\n",
    "    plt.xlabel('Sample Index')\n",
    "    plt.ylabel('Distance')\n",
    "    plt.show()"
   ]
  },
  {
   "cell_type": "code",
   "execution_count": null,
   "metadata": {},
   "outputs": [],
   "source": [
    "# SOM\n",
    "from sompy.sompy import SOMFactory\n",
    "\n",
    "def apply_som(data, mapsize=(10, 10), learning_rate=0.02, neighborhood_function='gaussian'):\n",
    "    som = SOMFactory.build(data, mapsize=mapsize, normalization='var', initialization='pca')\n",
    "    som.train(n_job=1, verbose=False, train_rough_len=20, train_finetune_len=100, learning_rate=learning_rate,\n",
    "              neighborhood=neighborhood_function)\n",
    "\n",
    "    # Plot component planes\n",
    "    som.component_planes()\n",
    "\n",
    "    # Plot U-matrix\n",
    "    som.view_umatrix(bestmatches=True, colormap='viridis', colorbar=True)"
   ]
  }
 ],
 "metadata": {
  "kernelspec": {
   "display_name": "projects",
   "language": "python",
   "name": "python3"
  },
  "language_info": {
   "codemirror_mode": {
    "name": "ipython",
    "version": 3
   },
   "file_extension": ".py",
   "mimetype": "text/x-python",
   "name": "python",
   "nbconvert_exporter": "python",
   "pygments_lexer": "ipython3",
   "version": "3.11.5"
  },
  "orig_nbformat": 4
 },
 "nbformat": 4,
 "nbformat_minor": 2
}
